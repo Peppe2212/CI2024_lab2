{
 "cells": [
  {
   "cell_type": "markdown",
   "metadata": {},
   "source": [
    "# Lab 2 - TSP\n",
    "\n",
    "The Traveling Salesman Problem asks about finding the shortest possible route that visits each cities (from a known list) exactly once and returns to the origin city. \n",
    "\n",
    "So we are looking for a minimum cost hamiltonian cycle, inside a fully connected graph."
   ]
  },
  {
   "cell_type": "code",
   "execution_count": 1,
   "metadata": {},
   "outputs": [],
   "source": [
    "## Import\n",
    "\n",
    "import logging\n",
    "import random\n",
    "from itertools import combinations\n",
    "import pandas as pd\n",
    "import numpy as np\n",
    "from geopy.distance import geodesic\n",
    "import networkx as nx\n",
    "\n",
    "from icecream import ic\n",
    "\n",
    "logging.basicConfig(level=logging.DEBUG)"
   ]
  },
  {
   "cell_type": "code",
   "execution_count": 34,
   "metadata": {},
   "outputs": [
    {
     "data": {
      "text/html": [
       "<div>\n",
       "<style scoped>\n",
       "    .dataframe tbody tr th:only-of-type {\n",
       "        vertical-align: middle;\n",
       "    }\n",
       "\n",
       "    .dataframe tbody tr th {\n",
       "        vertical-align: top;\n",
       "    }\n",
       "\n",
       "    .dataframe thead th {\n",
       "        text-align: right;\n",
       "    }\n",
       "</style>\n",
       "<table border=\"1\" class=\"dataframe\">\n",
       "  <thead>\n",
       "    <tr style=\"text-align: right;\">\n",
       "      <th></th>\n",
       "      <th>name</th>\n",
       "      <th>lat</th>\n",
       "      <th>lon</th>\n",
       "    </tr>\n",
       "  </thead>\n",
       "  <tbody>\n",
       "    <tr>\n",
       "      <th>0</th>\n",
       "      <td>Abilene</td>\n",
       "      <td>32.454514</td>\n",
       "      <td>-99.738147</td>\n",
       "    </tr>\n",
       "    <tr>\n",
       "      <th>1</th>\n",
       "      <td>Akron</td>\n",
       "      <td>41.080456</td>\n",
       "      <td>-81.521429</td>\n",
       "    </tr>\n",
       "    <tr>\n",
       "      <th>2</th>\n",
       "      <td>Albuquerque</td>\n",
       "      <td>35.105552</td>\n",
       "      <td>-106.647388</td>\n",
       "    </tr>\n",
       "    <tr>\n",
       "      <th>3</th>\n",
       "      <td>Alexandria</td>\n",
       "      <td>38.818343</td>\n",
       "      <td>-77.082026</td>\n",
       "    </tr>\n",
       "    <tr>\n",
       "      <th>4</th>\n",
       "      <td>Allen</td>\n",
       "      <td>33.107224</td>\n",
       "      <td>-96.674676</td>\n",
       "    </tr>\n",
       "  </tbody>\n",
       "</table>\n",
       "</div>"
      ],
      "text/plain": [
       "          name        lat         lon\n",
       "0      Abilene  32.454514  -99.738147\n",
       "1        Akron  41.080456  -81.521429\n",
       "2  Albuquerque  35.105552 -106.647388\n",
       "3   Alexandria  38.818343  -77.082026\n",
       "4        Allen  33.107224  -96.674676"
      ]
     },
     "execution_count": 34,
     "metadata": {},
     "output_type": "execute_result"
    }
   ],
   "source": [
    "## Loading cities from the directory\n",
    "\n",
    "CITIES = pd.read_csv('cities/italy.csv', header=None, names=['name', 'lat', 'lon'])\n",
    "\n",
    "## Initializing the distance matrix -> distance between couple of cities\n",
    "DIST_MATRIX = np.zeros((len(CITIES), len(CITIES)))\n",
    "\n",
    "for c1, c2 in combinations(CITIES.itertuples(), 2):\n",
    "    DIST_MATRIX[c1.Index, c2.Index] = DIST_MATRIX[c2.Index, c1.Index] = geodesic(\n",
    "        (c1.lat, c1.lon), (c2.lat, c2.lon)\n",
    "    ).km\n",
    "    \n",
    "CITIES.head()"
   ]
  },
  {
   "cell_type": "code",
   "execution_count": 35,
   "metadata": {},
   "outputs": [],
   "source": [
    "##Defining the cost\n",
    "\n",
    "def tsp_cost(tsp):\n",
    "    assert tsp[0] == tsp[-1]\n",
    "    assert set(tsp) == set(range(len(CITIES)))\n",
    "\n",
    "    tot_cost = 0\n",
    "    for c1, c2 in zip(tsp, tsp[1:]):\n",
    "        tot_cost += DIST_MATRIX[c1, c2]\n",
    "    return tot_cost"
   ]
  },
  {
   "cell_type": "markdown",
   "metadata": {},
   "source": [
    "## First Greedy Solution "
   ]
  },
  {
   "cell_type": "markdown",
   "metadata": {},
   "source": []
  },
  {
   "cell_type": "code",
   "execution_count": null,
   "metadata": {},
   "outputs": [],
   "source": []
  },
  {
   "cell_type": "markdown",
   "metadata": {},
   "source": [
    "## Second Solution - EA with inver over"
   ]
  },
  {
   "cell_type": "markdown",
   "metadata": {},
   "source": [
    "For the second solution for the TSP i choose to implement an evolutionary algorithm using the inver over. \n",
    "The inver over is based on the idea that one genes are selected in the first parent, on edge is taken from the second parent, trying to preserve edges of the first.\n",
    "\n"
   ]
  },
  {
   "cell_type": "markdown",
   "metadata": {},
   "source": [
    "The inver-over operator is particularly useful for certain types of combinatorial optimization problems, like the TSP, because it effectively preserves and improves the \"local structures\" of the solution, such as the sequence of cities in a route."
   ]
  },
  {
   "cell_type": "markdown",
   "metadata": {},
   "source": [
    "### Defining some functions"
   ]
  },
  {
   "cell_type": "markdown",
   "metadata": {},
   "source": [
    "I defined some useful functions:\n",
    "- fitness(): fitness function \n",
    "- generate_random_tour(): generating a randomic tour of the cities from the csv file. \n",
    "- inver_over(): reverses sections of the current route, trying to find a city configuration with a shorter overall distance.\n",
    "- roulette_selection(): "
   ]
  },
  {
   "cell_type": "code",
   "execution_count": 36,
   "metadata": {},
   "outputs": [],
   "source": [
    "#defining the fitness function\n",
    "def fitness(tour):\n",
    "    return 1/tsp_cost(tour)\n",
    "\n",
    "\n",
    "#genereting a randomic tour of the cities\n",
    "def generate_random_tour():\n",
    "    tour = list(range(len(CITIES)))\n",
    "    random.shuffle(tour)\n",
    "    tour.append(tour[0])\n",
    "    return tour\n",
    "\n",
    "\n",
    "#defining the inver_over mutation\n",
    "def inver_over(tour):\n",
    "    new_tour = tour[:-1] \n",
    "    start = random.randint(0, len(new_tour) - 1 )\n",
    "    end = random.randint(0, len(new_tour) -1 )\n",
    "    \n",
    "    if start > end:\n",
    "        start, end = end, start\n",
    "    new_tour[start:end+1] =  reversed(new_tour[start:end+1])\n",
    "    new_tour.append(new_tour[0])\n",
    "    \n",
    "    return new_tour\n",
    "\n",
    "#defining the roulette selection to find the parents from a population of candidates\n",
    "def roulette_selection(population, fitness_values):\n",
    "    max_fit = sum(fitness_values)\n",
    "    pick = random.uniform(0, max_fit)\n",
    "    current = 0\n",
    "    for i, fit in enumerate(fitness_values):\n",
    "        current += fit\n",
    "        if current > pick:\n",
    "            return population[i]\n",
    "    return population[-1]\n",
    "\n"
   ]
  },
  {
   "cell_type": "code",
   "execution_count": 37,
   "metadata": {},
   "outputs": [],
   "source": [
    "##Defining the genetic algorithm\n",
    "\n",
    "def genetic_algorithm(cities, dist_matrix, pop_size=100, generations=1000):\n",
    "    population = [generate_random_tour() for _ in range(pop_size)]\n",
    "    best_solution = min(population, key=lambda x: tsp_cost(x))\n",
    "    best_cost = tsp_cost(best_solution)\n",
    "    best_generation = 0\n",
    "\n",
    "    for generation in range(generations):\n",
    "        fitness_values = [fitness(tour) for tour in population]\n",
    "        new_population = []\n",
    "        \n",
    "        #Generating new population \n",
    "        for _ in range(pop_size):\n",
    "            parent = roulette_selection(population, fitness_values)\n",
    "            child = inver_over(parent)\n",
    "            new_population.append(child)\n",
    "        \n",
    "        #Updating the population\n",
    "        population = new_population\n",
    "        candidate_best = min(population, key=lambda x: tsp_cost(x))\n",
    "        candidate_cost = tsp_cost(candidate_best)\n",
    "        \n",
    "        if candidate_cost < best_cost:\n",
    "            best_solution = candidate_best\n",
    "            best_cost = candidate_cost\n",
    "            best_generation = generation\n",
    "\n",
    "        # Log delle performance ogni 100 generazioni\n",
    "        if generation % 100 == 0:\n",
    "            logging.debug(f\"Generation {generation}: Best cost = {best_cost:.2f}\")\n",
    "\n",
    "    # Restituisci anche i nomi delle città nel miglior tour\n",
    "    best_city_names = [cities.iloc[i]['name'] for i in best_solution]\n",
    "    return best_city_names, best_cost, best_generation"
   ]
  },
  {
   "cell_type": "markdown",
   "metadata": {},
   "source": [
    "TSP - Vanuatu"
   ]
  },
  {
   "cell_type": "code",
   "execution_count": 40,
   "metadata": {},
   "outputs": [],
   "source": [
    "## Loading cities from the directory\n",
    "\n",
    "CITIES = pd.read_csv('cities/vanuatu.csv', header=None, names=['name', 'lat', 'lon'])\n",
    "\n",
    "## Initializing the distance matrix -> distance between couple of cities\n",
    "DIST_MATRIX = np.zeros((len(CITIES), len(CITIES)))\n",
    "\n",
    "for c1, c2 in combinations(CITIES.itertuples(), 2):\n",
    "    DIST_MATRIX[c1.Index, c2.Index] = DIST_MATRIX[c2.Index, c1.Index] = geodesic(\n",
    "        (c1.lat, c1.lon), (c2.lat, c2.lon)\n",
    "    ).km"
   ]
  },
  {
   "cell_type": "code",
   "execution_count": 41,
   "metadata": {},
   "outputs": [
    {
     "name": "stderr",
     "output_type": "stream",
     "text": [
      "DEBUG:root:Generation 0: Best cost = 1345.54\n",
      "DEBUG:root:Generation 100: Best cost = 1345.54\n",
      "DEBUG:root:Generation 200: Best cost = 1345.54\n",
      "DEBUG:root:Generation 300: Best cost = 1345.54\n",
      "DEBUG:root:Generation 400: Best cost = 1345.54\n",
      "DEBUG:root:Generation 500: Best cost = 1345.54\n",
      "DEBUG:root:Generation 600: Best cost = 1345.54\n",
      "DEBUG:root:Generation 700: Best cost = 1345.54\n",
      "DEBUG:root:Generation 800: Best cost = 1345.54\n",
      "DEBUG:root:Generation 900: Best cost = 1345.54\n",
      "INFO:root:Best tour: ['Vila', 'Isangel', 'Longana', 'Sola', 'Port Olry', 'Luganville', 'Norsup', 'Lakatoro', 'Vila']\n",
      "INFO:root:Total distance: 1345.54 km\n",
      "INFO:root:Steps taken: 18\n"
     ]
    }
   ],
   "source": [
    "solution, final_cost, steps = genetic_algorithm(CITIES, DIST_MATRIX, pop_size=100, generations=1000)\n",
    "\n",
    "logging.info(f\"Best tour: {solution}\")  #Shows the best path/tour of the cities\n",
    "logging.info(f\"Total distance: {final_cost:.2f} km\")  # Shows the total distance \n",
    "logging.info(f\"Steps taken: {steps}\")  #Steps taken to find the best solution"
   ]
  },
  {
   "cell_type": "markdown",
   "metadata": {},
   "source": [
    "TSP - Italy"
   ]
  },
  {
   "cell_type": "code",
   "execution_count": 43,
   "metadata": {},
   "outputs": [],
   "source": [
    "## Loading cities from the directory\n",
    "\n",
    "CITIES = pd.read_csv('cities/italy.csv', header=None, names=['name', 'lat', 'lon'])\n",
    "\n",
    "## Initializing the distance matrix -> distance between couple of cities\n",
    "DIST_MATRIX = np.zeros((len(CITIES), len(CITIES)))\n",
    "\n",
    "for c1, c2 in combinations(CITIES.itertuples(), 2):\n",
    "    DIST_MATRIX[c1.Index, c2.Index] = DIST_MATRIX[c2.Index, c1.Index] = geodesic(\n",
    "        (c1.lat, c1.lon), (c2.lat, c2.lon)\n",
    "    ).km\n",
    "    \n"
   ]
  },
  {
   "cell_type": "code",
   "execution_count": 44,
   "metadata": {},
   "outputs": [
    {
     "name": "stderr",
     "output_type": "stream",
     "text": [
      "DEBUG:root:Generation 0: Best cost = 15491.01\n",
      "DEBUG:root:Generation 100: Best cost = 12348.23\n",
      "DEBUG:root:Generation 200: Best cost = 12348.23\n",
      "DEBUG:root:Generation 300: Best cost = 12348.23\n",
      "DEBUG:root:Generation 400: Best cost = 12348.23\n",
      "DEBUG:root:Generation 500: Best cost = 12348.23\n",
      "DEBUG:root:Generation 600: Best cost = 12348.23\n",
      "DEBUG:root:Generation 700: Best cost = 12348.23\n",
      "DEBUG:root:Generation 800: Best cost = 12348.23\n",
      "DEBUG:root:Generation 900: Best cost = 12348.23\n",
      "INFO:root:Best tour: ['Perugia', 'Ancona', 'Cagliari', 'Palermo', 'Sassari', 'Prato', 'Rome', 'Terni', 'Bologna', 'Rimini', 'Pescara', 'Foggia', 'Naples', 'Florence', 'Padua', 'Trento', 'Latina', 'Leghorn', 'Forlì', 'Taranto', 'Reggio di Calabria', 'Bari', 'Salerno', 'Messina', 'Catania', 'Giugliano in Campania', 'Andria', 'Vicenza', 'Brescia', 'Bolzano', 'Modena', 'Genoa', \"Reggio nell'Emilia\", 'Venice', 'Verona', 'Ravenna', 'Syracuse', 'Piacenza', 'Novara', 'Turin', 'Ferrara', 'Trieste', 'Milan', 'Monza', 'Bergamo', 'Parma', 'Perugia']\n",
      "INFO:root:Total distance: 12348.23 km\n",
      "INFO:root:Steps taken: 50\n"
     ]
    }
   ],
   "source": [
    "solution, final_cost, steps = genetic_algorithm(CITIES, DIST_MATRIX, pop_size=100, generations=1000)\n",
    "\n",
    "logging.info(f\"Best tour: {solution}\")  #Shows the best path/tour of the cities\n",
    "logging.info(f\"Total distance: {final_cost:.2f} km\")  # Shows the total distance \n",
    "logging.info(f\"Steps taken: {steps}\")  #Steps taken to find the best solution"
   ]
  },
  {
   "cell_type": "markdown",
   "metadata": {},
   "source": [
    "TSP - Russia"
   ]
  },
  {
   "cell_type": "code",
   "execution_count": 45,
   "metadata": {},
   "outputs": [],
   "source": [
    "## Loading cities from the directory\n",
    "\n",
    "CITIES = pd.read_csv('cities/russia.csv', header=None, names=['name', 'lat', 'lon'])\n",
    "\n",
    "## Initializing the distance matrix -> distance between couple of cities\n",
    "DIST_MATRIX = np.zeros((len(CITIES), len(CITIES)))\n",
    "\n",
    "for c1, c2 in combinations(CITIES.itertuples(), 2):\n",
    "    DIST_MATRIX[c1.Index, c2.Index] = DIST_MATRIX[c2.Index, c1.Index] = geodesic(\n",
    "        (c1.lat, c1.lon), (c2.lat, c2.lon)\n",
    "    ).km\n",
    "    "
   ]
  },
  {
   "cell_type": "code",
   "execution_count": 46,
   "metadata": {},
   "outputs": [
    {
     "name": "stderr",
     "output_type": "stream",
     "text": [
      "DEBUG:root:Generation 0: Best cost = 302689.22\n",
      "DEBUG:root:Generation 100: Best cost = 286099.78\n",
      "DEBUG:root:Generation 200: Best cost = 284140.35\n",
      "DEBUG:root:Generation 300: Best cost = 281649.96\n",
      "DEBUG:root:Generation 400: Best cost = 269260.59\n",
      "DEBUG:root:Generation 500: Best cost = 269260.59\n",
      "DEBUG:root:Generation 600: Best cost = 265501.12\n",
      "DEBUG:root:Generation 700: Best cost = 254754.14\n",
      "DEBUG:root:Generation 800: Best cost = 252748.78\n",
      "DEBUG:root:Generation 900: Best cost = 252748.78\n",
      "INFO:root:Best tour: ['Komsomolsk‐na‐Amure', 'Tobolsk', 'Seversk', 'Magadan', 'Blagoveshchensk', 'Ussuriysk', 'Vladivostok', 'Yuzhno‐Sakhalinsk', 'Khabarovsk', 'Velikiy Novgorod', 'Cheboksary', 'Novoshakhtinsk', 'Noginsk', 'Novokuybyshevsk', 'Balakovo', 'Korolyov', 'Nalchik', 'Almetyevsk', 'Kolomna', 'Ulyanovsk', 'Kostroma', 'Kamensk‐Uralskiy', 'Tyumen', 'Obninsk', 'Groznyy', 'Nevinnomyssk', 'Severodvinsk', 'Armavir', 'Nizhnevartovsk', 'Kamyshin', 'Zelenograd', 'Petrozavodsk', 'Lyubertsy', 'Vladimir', 'Rybinsk', 'Orenburg', 'Izhevsk', 'Kolpino', 'Elista', 'Chelyabinsk', 'Tula', 'Astrakhan', 'Novocherkassk', 'Derbent', 'Orenberg', 'Volgograd', 'Kurgan', 'Yekaterinburg', 'Kopeysk', 'Shchyolkovo', 'Balashikha', 'Dzerzhinsk', 'Saransk', 'Angarsk', 'Surgut', 'Volgodonsk', 'Novotroitsk', 'Ulan‐Ude', 'Krasnoyarsk', 'Tambov', 'Cherkessk', 'Pyatigorsk', 'Ryazan', 'Sochi', 'Saint Petersburg', 'Perm', 'Pskov', 'Oktyabrskiy', 'Vladikavkaz', 'Samara', 'Novorossiysk', 'Syktyvkar', 'Novomoskovsk', 'Oryol', 'Sterlitamak', 'Pervouralsk', 'Nizhnekamsk', 'Kazan', 'Prokopyevsk', 'Cherepovets', 'Murom', 'Belgorod', 'Kaluga', 'Krasnodar', 'Novocheboksarsk', 'Irkutsk', 'Tver', 'Zheleznodorozhnyy', 'Tolyatti', 'Sergiyev Posad', 'Syzran', 'Ivanovo', 'Kirov', 'Kemerovo', 'Yaroslavl', 'Serpukhov', 'Zlatoust', 'Salavat', 'Yakutsk', 'Kyzyl', 'Vologda', 'Penza', 'Smolensk', 'Bataysk', 'Yoshkar‐Ola', 'Berezniki', 'Achinsk', 'Novosibirsk', 'Kaliningrad', 'Zhukovskiy', 'Shakhty', 'Rostov‐na‐Donu', 'Nizhniy Tagil', 'Orekhovo‐Zuevo', 'Neftekamsk', 'Saratov', 'Barnaul', 'Abakan', 'Orsk', 'Makhachkala', 'Khasavyurt', 'Lipetsk', 'Engels', 'Naberezhnye Chelny', 'Elektrostal', 'Bratsk', 'Biysk', 'Magnitogorsk', 'Petropavlovsk‐Kamchatskiy', 'Artyom', 'Kursk', 'Rubtsovsk', 'Volzhskiy', 'Norilsk', 'Moscow', 'Novyy Urengoy', 'Voronezh', 'Staryy Oskol', 'Bryansk', 'Odintsovo', 'Dimitrovgrad', 'Tomsk', 'Nefteyugansk', 'Noyabrsk', 'Leninsk‐Kuznetskiy', 'Nizhny Novgorod', 'Kaspiysk', 'Stavropol', 'Taganrog', 'Mytishchi', 'Maykop', 'Kovrov', 'Kislovodsk', 'Nazran', 'Miass', 'Ufa', 'Arkhangelsk', 'Chita', 'Nakhodka', 'Arzamas', 'Velikie Luki', 'Khimki', 'Yelets', 'Murmansk', 'Omsk', 'Novokuznetsk', 'Podolsk', 'Komsomolsk‐na‐Amure']\n",
      "INFO:root:Total distance: 252748.78 km\n",
      "INFO:root:Steps taken: 729\n"
     ]
    }
   ],
   "source": [
    "solution, final_cost, steps = genetic_algorithm(CITIES, DIST_MATRIX, pop_size=100, generations=1000)\n",
    "\n",
    "logging.info(f\"Best tour: {solution}\")  #Shows the best path/tour of the cities\n",
    "logging.info(f\"Total distance: {final_cost:.2f} km\")  # Shows the total distance \n",
    "logging.info(f\"Steps taken: {steps}\")  #Steps taken to find the best solution"
   ]
  },
  {
   "cell_type": "markdown",
   "metadata": {},
   "source": [
    "TSP - US"
   ]
  },
  {
   "cell_type": "code",
   "execution_count": 47,
   "metadata": {},
   "outputs": [],
   "source": [
    "## Loading cities from the directory\n",
    "\n",
    "CITIES = pd.read_csv('cities/us.csv', header=None, names=['name', 'lat', 'lon'])\n",
    "\n",
    "## Initializing the distance matrix -> distance between couple of cities\n",
    "DIST_MATRIX = np.zeros((len(CITIES), len(CITIES)))\n",
    "\n",
    "for c1, c2 in combinations(CITIES.itertuples(), 2):\n",
    "    DIST_MATRIX[c1.Index, c2.Index] = DIST_MATRIX[c2.Index, c1.Index] = geodesic(\n",
    "        (c1.lat, c1.lon), (c2.lat, c2.lon)\n",
    "    ).km"
   ]
  },
  {
   "cell_type": "code",
   "execution_count": 48,
   "metadata": {},
   "outputs": [
    {
     "name": "stderr",
     "output_type": "stream",
     "text": [
      "DEBUG:root:Generation 0: Best cost = 585251.25\n",
      "DEBUG:root:Generation 100: Best cost = 562834.85\n",
      "DEBUG:root:Generation 200: Best cost = 562834.85\n",
      "DEBUG:root:Generation 300: Best cost = 562834.85\n",
      "DEBUG:root:Generation 400: Best cost = 562834.85\n",
      "DEBUG:root:Generation 500: Best cost = 562834.85\n",
      "DEBUG:root:Generation 600: Best cost = 562834.85\n",
      "DEBUG:root:Generation 700: Best cost = 562834.85\n",
      "DEBUG:root:Generation 800: Best cost = 562834.85\n",
      "DEBUG:root:Generation 900: Best cost = 562834.85\n",
      "INFO:root:Best tour: ['Broken Arrow', 'Lewisville', 'Jurupa Valley', 'Sparks', 'Worcester', 'Boise', 'Dallas', 'Los Angeles', 'Tallahassee', 'Indianapolis', 'Bakersfield', 'Hollywood', 'Sioux Falls', 'Sandy Springs', \"Lee's Summit\", 'Highlands Ranch', 'Corona', 'Plano', 'Henderson', 'Athens', 'Garden Grove', 'Irvine', 'Oxnard', 'Ontario', 'Thornton', 'College Station', 'El Paso', 'Odessa', 'New York City', 'Spring Hill', 'Sunrise Manor', 'Norfolk', 'West Palm Beach', 'Lexington', 'Santa Clara', 'Denver', 'Washington', 'Clearwater', 'Waterbury', 'Charlotte', 'Tampa', 'Brockton', 'Minneapolis', 'Joliet', 'Carrollton', 'Tulsa', 'Knoxville', 'Wichita Falls', 'Cape Coral', 'Akron', 'Gresham', 'Jersey City', 'Lansing', 'Riverview', 'Edinburg', 'Ramapo', 'Brandon', 'Visalia', 'Oceanside', 'Pomona', 'Chattanooga', 'Modesto', 'Hialeah', 'Paradise', 'Kansas City', 'Lancaster', 'Jacksonville', 'Federal Way', 'Lakeland', 'Brownsville', 'Greensboro', 'Bellevue', 'Independence', 'Saint Paul', 'Grand Rapids', 'Fort Wayne', 'Rialto', 'Boulder', 'Port Saint Lucie', 'Rio Rancho', 'Tempe', 'Alexandria', 'Centennial', 'Escondido', 'Orange', 'Glendale', 'Sunnyvale', 'Irving', 'Midland', 'Murrieta', 'Tyler', 'Pueblo', 'Albuquerque', 'Mobile', 'Baton Rouge', 'Norman', 'Stamford', 'High Point', 'Boston', 'Hampton', 'Cary', 'Ann Arbor', 'Concord', 'Lincoln', 'Saint Louis', 'Santa Clarita', 'Spring Valley', 'Newark', 'Richmond', 'San Jose', 'San Diego', 'Jackson', 'Las Cruces', 'Huntington Beach', 'Lowell', 'Bridgeport', 'Fort Lauderdale', 'Fremont', 'Virginia Beach', 'Huntsville', 'Chesapeake', 'Savannah', 'Cleveland', 'Green Bay', 'Vancouver', 'Portland', 'Billings', 'Long Beach', 'Tacoma', 'Toledo', 'Providence', 'Miramar', 'Allen', 'San Antonio', 'Clovis', 'San Bernardino', 'North Las Vegas', 'Anchorage', 'Spokane Valley', 'Little Rock', 'Hillsboro', 'Topeka', 'Fargo', 'Saint Petersburg', 'Pearland', 'Edison', 'Torrance', 'Santa Rosa', 'Surprise', 'Grand Prairie', 'Louisville', 'Enterprise', 'West Covina', 'Quincy', 'Richardson', 'Orlando', 'Raleigh', 'Columbia', 'Cedar Rapids', 'Stockton', 'Roanoke', 'Yonkers', 'New Bedford', 'Clarksville', 'Davie', 'Fort Worth', 'Manchester', 'South Bend', 'Memphis', 'Allentown', 'San Francisco', 'Meridian', 'Norwalk', 'Paterson', 'Wilmington', 'Aurora', 'Syracuse', 'Baltimore', 'Arvada', 'Fresno', 'Oakland', 'Fullerton', 'Davenport', 'Newport News', 'Elizabeth', 'Springfield', 'Waco', 'Coral Springs', 'Pembroke Pines', 'Sugar Land', 'Menifee', 'Lubbock', 'Philadelphia', 'Killeen', 'Fort Collins', 'Oklahoma City', 'Amarillo', 'Palmdale', 'Reno', 'Des Moines', 'Abilene', 'Westminster', 'Winston‐Salem', 'Detroit', 'Elgin', 'West Jordan', 'Provo', 'New Haven', 'Anaheim', 'Chicago', 'Cincinnati', 'Mesa', 'Murfreesboro', 'Birmingham', 'Macon', 'Gilbert', 'Wichita', 'Kent', 'Amherst', 'Evansville', 'Thousand Oaks', 'Rochester', 'Madison', 'Inglewood', 'Chula Vista', 'Pittsburgh', 'Denton', 'Houston', 'The Woodlands', 'Garland', 'Rancho Cucamonga', 'Santa Ana', 'Roseville', 'Daly City', 'Simi Valley', 'Seattle', 'Salt Lake City', 'West Valley City', 'Hartford', 'Pasadena', 'Miami', 'Oyster Bay', 'Durham', 'Shreveport', 'Arlington', 'Lakewood', 'Santa Maria', 'El Monte', 'McKinney', 'Charleston', 'Palm Bay', 'Carlsbad', 'Sacramento', 'Olathe', 'Moreno Valley', 'Warren', 'Gainesville', 'Fayetteville', 'Augusta', 'Milwaukee', 'League City', 'Honolulu', 'Fairfield', 'Temecula', 'Riverside', 'Eugene', 'Costa Mesa', 'San Mateo', 'Columbus', 'Chico', 'Metairie', 'Mesquite', 'Victorville', 'Buffalo', 'Overland Park', 'Corpus Christi', 'Pompano Beach', 'El Cajon', 'McAllen', 'Burbank', 'Vacaville', 'Tucson', 'Hayward', 'Naperville', 'Salem', 'Round Rock', 'Laredo', 'Las Vegas', 'Antioch', 'Spokane', 'Salinas', 'Elk Grove', 'San Buenaventura (Ventura)', 'Dayton', 'Miami Gardens', 'New Orleans', 'Sterling Heights', 'Berkeley', 'Scottsdale', 'Everett', 'Peoria', 'Montgomery', 'Nampa', 'Cambridge', 'Lehigh Acres', 'North Hempstead', 'Downey', 'Austin', 'Dearborn', 'East Los Angeles', 'Phoenix', 'Lafayette', 'Atlanta', 'Beaumont', 'Renton', 'Rockford', 'Fontana', 'Frisco', 'Omaha', 'Colorado Springs', 'Greeley', 'Chandler', 'Nashville', 'Lynn', 'Vallejo', 'North Charleston', 'Broken Arrow']\n",
      "INFO:root:Total distance: 562834.85 km\n",
      "INFO:root:Steps taken: 74\n"
     ]
    }
   ],
   "source": [
    "solution, final_cost, steps = genetic_algorithm(CITIES, DIST_MATRIX, pop_size=100, generations=1000)\n",
    "\n",
    "logging.info(f\"Best tour: {solution}\")  #Shows the best path/tour of the cities\n",
    "logging.info(f\"Total distance: {final_cost:.2f} km\")  # Shows the total distance \n",
    "logging.info(f\"Steps taken: {steps}\")  #Steps taken to find the best solution"
   ]
  }
 ],
 "metadata": {
  "kernelspec": {
   "display_name": ".venv",
   "language": "python",
   "name": "python3"
  },
  "language_info": {
   "codemirror_mode": {
    "name": "ipython",
    "version": 3
   },
   "file_extension": ".py",
   "mimetype": "text/x-python",
   "name": "python",
   "nbconvert_exporter": "python",
   "pygments_lexer": "ipython3",
   "version": "3.12.0"
  }
 },
 "nbformat": 4,
 "nbformat_minor": 2
}
